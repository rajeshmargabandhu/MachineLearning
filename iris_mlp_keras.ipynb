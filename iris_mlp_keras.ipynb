{
 "cells": [
  {
   "cell_type": "code",
   "execution_count": 59,
   "metadata": {},
   "outputs": [],
   "source": [
    "import tensorflow.keras as keras\n",
    "from tensorflow.keras.layers import Dense\n",
    "from tensorflow.keras.models import Sequential\n",
    "import matplotlib.pylab as plt\n",
    "import numpy as np\n",
    "import pandas as pd"
   ]
  },
  {
   "cell_type": "code",
   "execution_count": 60,
   "metadata": {},
   "outputs": [
    {
     "name": "stdout",
     "output_type": "stream",
     "text": [
      "The tensorboard extension is already loaded. To reload it, use:\n",
      "  %reload_ext tensorboard\n"
     ]
    },
    {
     "data": {
      "text/plain": [
       "'2.4.1'"
      ]
     },
     "execution_count": 60,
     "metadata": {},
     "output_type": "execute_result"
    }
   ],
   "source": [
    "%load_ext tensorboard\n",
    "import tensorboard\n",
    "tensorboard.__version__"
   ]
  },
  {
   "cell_type": "code",
   "execution_count": 61,
   "metadata": {},
   "outputs": [],
   "source": [
    "def getTestandTrainSplit():\n",
    "    iris_df_train =  pd.read_csv(r'C:\\Users\\rajes\\OneDrive\\Documents\\AMPBA\\DL\\iris_training.csv', header=None)\n",
    "    iris_df_test =  pd.read_csv(r'C:\\Users\\rajes\\OneDrive\\Documents\\AMPBA\\DL\\iris_test.csv', header=None)\n",
    "\n",
    "    x_train = iris_df_train.iloc[:,0:4].values\n",
    "    y_train = iris_df_train.iloc[:,-1].values\n",
    "\n",
    "    x_test = iris_df_test.iloc[:,0:4].values\n",
    "    y_test = iris_df_test.iloc[:,-1].values\n",
    "    \n",
    "    return x_train,y_train, x_test,y_test\n"
   ]
  },
  {
   "cell_type": "code",
   "execution_count": 64,
   "metadata": {},
   "outputs": [],
   "source": [
    "x_train,y_train, x_test,y_test = getTestandTrainSplit()"
   ]
  },
  {
   "cell_type": "code",
   "execution_count": 94,
   "metadata": {},
   "outputs": [],
   "source": [
    "# SETTING UP HYPERPARAMETERS AND DATA SET PARAMETERS\n",
    "num_classes = 3 # -- Iris Setosa -- Iris Versicolour -- Iris Virginica\n",
    "num_features = 4 # 1. sepal length in cm 2. sepal width in cm  3. petal length in cm 4. petal width in cm\n",
    "\n",
    "\n",
    "# Training parameters.\n",
    "learning_rate = 0.003\n",
    "training_steps = 1000\n",
    "batch_size = 10\n",
    "display_step = 100\n",
    "\n",
    "hidden1=5\n",
    "hidden2=10\n",
    "hidden3=5\n",
    "\n",
    "epochs=50"
   ]
  },
  {
   "cell_type": "code",
   "execution_count": 87,
   "metadata": {},
   "outputs": [
    {
     "name": "stdout",
     "output_type": "stream",
     "text": [
      "120 30 120 30\n"
     ]
    }
   ],
   "source": [
    "# LOADING AND PREPARING THE MNIST DATA SET\n",
    "x_train,y_train, x_test,y_test = getTestandTrainSplit()\n",
    "\n",
    "# Convert to float32.\n",
    "x_train, x_test = np.array(x_train, np.float32), np.array(x_test, np.float32)\n",
    "\n",
    "# Normalize images value from [0, 255] to [0, 1].\n",
    "x_train, x_test = x_train / 255., x_test / 255.\n",
    "\n",
    "print(len(x_train),len(x_test),len(y_train),len(y_test))\n",
    "\n",
    "# Flatten images to 1-D vector of 784 features (28*28).\n",
    "x_train, x_test = x_train.reshape([-1, num_features]), x_test.reshape([-1, num_features])\n",
    "\n"
   ]
  },
  {
   "cell_type": "code",
   "execution_count": 88,
   "metadata": {},
   "outputs": [
    {
     "name": "stdout",
     "output_type": "stream",
     "text": [
      "(120, 4) (120,) (30, 4) (30,)\n"
     ]
    }
   ],
   "source": [
    "print(x_train.shape,y_train.shape, x_test.shape,y_test.shape)"
   ]
  },
  {
   "cell_type": "code",
   "execution_count": 89,
   "metadata": {},
   "outputs": [],
   "source": [
    "y_train = keras.utils.to_categorical(y_train, num_classes)\n",
    "y_test = keras.utils.to_categorical(y_test, num_classes)"
   ]
  },
  {
   "cell_type": "code",
   "execution_count": 90,
   "metadata": {},
   "outputs": [],
   "source": [
    "model = Sequential()\n",
    "model.add(Dense(hidden1, activation='relu'))\n",
    "model.add(Dense(hidden2, activation='relu'))\n",
    "model.add(Dense(hidden3, activation='relu'))\n",
    "\n",
    "model.add(Dense(num_classes, activation='softmax'))"
   ]
  },
  {
   "cell_type": "code",
   "execution_count": 91,
   "metadata": {},
   "outputs": [],
   "source": [
    "model.compile(loss=keras.losses.categorical_crossentropy,\n",
    "              optimizer=keras.optimizers.Adam(),\n",
    "              metrics=['accuracy'])"
   ]
  },
  {
   "cell_type": "code",
   "execution_count": 92,
   "metadata": {},
   "outputs": [],
   "source": [
    "class AccuracyHistory(keras.callbacks.Callback):\n",
    "    def on_train_begin(self, logs={}):\n",
    "        self.acc = []\n",
    "\n",
    "    def on_epoch_end(self, batch, logs={}):\n",
    "        self.acc.append(logs.get('accuracy'))\n",
    "#['accuracy', 'loss', 'val_accuracy', 'val_loss']\n",
    "history = AccuracyHistory()\n",
    "\n",
    "# Define the Keras TensorBoard callback.\n",
    "from datetime import datetime\n",
    "logdir=\"logs/\" + datetime.now().strftime(\"%Y%m%d-%H%M%S\")\n",
    "tensorboard_callback = keras.callbacks.TensorBoard(log_dir=logdir)"
   ]
  },
  {
   "cell_type": "code",
   "execution_count": 95,
   "metadata": {},
   "outputs": [
    {
     "name": "stdout",
     "output_type": "stream",
     "text": [
      "Epoch 1/50\n",
      " 3/12 [======>.......................] - ETA: 5s - loss: 0.9377 - accuracy: 0.7333WARNING:tensorflow:Callback method `on_train_batch_end` is slow compared to the batch time (batch time: 0.0006s vs `on_train_batch_end` time: 0.1906s). Check your callbacks.\n",
      "12/12 [==============================] - 1s 124ms/step - loss: 0.9362 - accuracy: 0.7000 - val_loss: 0.9782 - val_accuracy: 0.5333\n",
      "Epoch 2/50\n",
      "12/12 [==============================] - 0s 4ms/step - loss: 0.9213 - accuracy: 0.7000 - val_loss: 0.9730 - val_accuracy: 0.5333\n",
      "Epoch 3/50\n",
      "12/12 [==============================] - 0s 5ms/step - loss: 0.9108 - accuracy: 0.7000 - val_loss: 0.9615 - val_accuracy: 0.5333\n",
      "Epoch 4/50\n",
      "12/12 [==============================] - 0s 5ms/step - loss: 0.9012 - accuracy: 0.7000 - val_loss: 0.9536 - val_accuracy: 0.5333\n",
      "Epoch 5/50\n",
      "12/12 [==============================] - 0s 6ms/step - loss: 0.8884 - accuracy: 0.7000 - val_loss: 0.9453 - val_accuracy: 0.5333\n",
      "Epoch 6/50\n",
      "12/12 [==============================] - 0s 4ms/step - loss: 0.8768 - accuracy: 0.7000 - val_loss: 0.9352 - val_accuracy: 0.5333\n",
      "Epoch 7/50\n",
      "12/12 [==============================] - 0s 5ms/step - loss: 0.8669 - accuracy: 0.7000 - val_loss: 0.9258 - val_accuracy: 0.5333\n",
      "Epoch 8/50\n",
      "12/12 [==============================] - 0s 5ms/step - loss: 0.8572 - accuracy: 0.7000 - val_loss: 0.9172 - val_accuracy: 0.5333\n",
      "Epoch 9/50\n",
      "12/12 [==============================] - 0s 5ms/step - loss: 0.8421 - accuracy: 0.7000 - val_loss: 0.9059 - val_accuracy: 0.5333\n",
      "Epoch 10/50\n",
      "12/12 [==============================] - 0s 4ms/step - loss: 0.8287 - accuracy: 0.7000 - val_loss: 0.8967 - val_accuracy: 0.5333\n",
      "Epoch 11/50\n",
      "12/12 [==============================] - 0s 5ms/step - loss: 0.8165 - accuracy: 0.7000 - val_loss: 0.8867 - val_accuracy: 0.5333\n",
      "Epoch 12/50\n",
      "12/12 [==============================] - 0s 5ms/step - loss: 0.8036 - accuracy: 0.7000 - val_loss: 0.8765 - val_accuracy: 0.5333\n",
      "Epoch 13/50\n",
      "12/12 [==============================] - 0s 4ms/step - loss: 0.7919 - accuracy: 0.7000 - val_loss: 0.8663 - val_accuracy: 0.5333\n",
      "Epoch 14/50\n",
      "12/12 [==============================] - 0s 5ms/step - loss: 0.7798 - accuracy: 0.7000 - val_loss: 0.8554 - val_accuracy: 0.5333\n",
      "Epoch 15/50\n",
      "12/12 [==============================] - 0s 5ms/step - loss: 0.7670 - accuracy: 0.7000 - val_loss: 0.8451 - val_accuracy: 0.5333\n",
      "Epoch 16/50\n",
      "12/12 [==============================] - 0s 4ms/step - loss: 0.7589 - accuracy: 0.7000 - val_loss: 0.8355 - val_accuracy: 0.5333\n",
      "Epoch 17/50\n",
      "12/12 [==============================] - 0s 5ms/step - loss: 0.7433 - accuracy: 0.7000 - val_loss: 0.8240 - val_accuracy: 0.5333\n",
      "Epoch 18/50\n",
      "12/12 [==============================] - 0s 5ms/step - loss: 0.7312 - accuracy: 0.7000 - val_loss: 0.8155 - val_accuracy: 0.6333\n",
      "Epoch 19/50\n",
      "12/12 [==============================] - 0s 5ms/step - loss: 0.7179 - accuracy: 0.7083 - val_loss: 0.8039 - val_accuracy: 0.5333\n",
      "Epoch 20/50\n",
      "12/12 [==============================] - 0s 5ms/step - loss: 0.7044 - accuracy: 0.7000 - val_loss: 0.7939 - val_accuracy: 0.5667\n",
      "Epoch 21/50\n",
      "12/12 [==============================] - 0s 5ms/step - loss: 0.6937 - accuracy: 0.7250 - val_loss: 0.7838 - val_accuracy: 0.5333\n",
      "Epoch 22/50\n",
      "12/12 [==============================] - 0s 4ms/step - loss: 0.6824 - accuracy: 0.7083 - val_loss: 0.7737 - val_accuracy: 0.5667\n",
      "Epoch 23/50\n",
      "12/12 [==============================] - 0s 4ms/step - loss: 0.6732 - accuracy: 0.7333 - val_loss: 0.7653 - val_accuracy: 0.5333\n",
      "Epoch 24/50\n",
      "12/12 [==============================] - 0s 5ms/step - loss: 0.6602 - accuracy: 0.7167 - val_loss: 0.7545 - val_accuracy: 0.6000\n",
      "Epoch 25/50\n",
      "12/12 [==============================] - 0s 5ms/step - loss: 0.6483 - accuracy: 0.7417 - val_loss: 0.7444 - val_accuracy: 0.5667\n",
      "Epoch 26/50\n",
      "12/12 [==============================] - 0s 4ms/step - loss: 0.6371 - accuracy: 0.7250 - val_loss: 0.7364 - val_accuracy: 0.6667\n",
      "Epoch 27/50\n",
      "12/12 [==============================] - 0s 4ms/step - loss: 0.6272 - accuracy: 0.7417 - val_loss: 0.7258 - val_accuracy: 0.5667\n",
      "Epoch 28/50\n",
      "12/12 [==============================] - 0s 4ms/step - loss: 0.6169 - accuracy: 0.7500 - val_loss: 0.7164 - val_accuracy: 0.6333\n",
      "Epoch 29/50\n",
      "12/12 [==============================] - 0s 4ms/step - loss: 0.6075 - accuracy: 0.7583 - val_loss: 0.7092 - val_accuracy: 0.7000\n",
      "Epoch 30/50\n",
      "12/12 [==============================] - 0s 4ms/step - loss: 0.5974 - accuracy: 0.7750 - val_loss: 0.7000 - val_accuracy: 0.6000\n",
      "Epoch 31/50\n",
      "12/12 [==============================] - 0s 5ms/step - loss: 0.5888 - accuracy: 0.7583 - val_loss: 0.6911 - val_accuracy: 0.7000\n",
      "Epoch 32/50\n",
      "12/12 [==============================] - 0s 5ms/step - loss: 0.5794 - accuracy: 0.8000 - val_loss: 0.6819 - val_accuracy: 0.6667\n",
      "Epoch 33/50\n",
      "12/12 [==============================] - 0s 4ms/step - loss: 0.5729 - accuracy: 0.7583 - val_loss: 0.6753 - val_accuracy: 0.7000\n",
      "Epoch 34/50\n",
      "12/12 [==============================] - 0s 4ms/step - loss: 0.5621 - accuracy: 0.8000 - val_loss: 0.6651 - val_accuracy: 0.7000\n",
      "Epoch 35/50\n",
      "12/12 [==============================] - 0s 4ms/step - loss: 0.5542 - accuracy: 0.7833 - val_loss: 0.6568 - val_accuracy: 0.7000\n",
      "Epoch 36/50\n",
      "12/12 [==============================] - 0s 4ms/step - loss: 0.5470 - accuracy: 0.8000 - val_loss: 0.6494 - val_accuracy: 0.7333\n",
      "Epoch 37/50\n",
      "12/12 [==============================] - 0s 6ms/step - loss: 0.5413 - accuracy: 0.7833 - val_loss: 0.6397 - val_accuracy: 0.7333\n",
      "Epoch 38/50\n",
      "12/12 [==============================] - 0s 5ms/step - loss: 0.5313 - accuracy: 0.7583 - val_loss: 0.6333 - val_accuracy: 0.7333\n",
      "Epoch 39/50\n",
      "12/12 [==============================] - 0s 5ms/step - loss: 0.5240 - accuracy: 0.8167 - val_loss: 0.6261 - val_accuracy: 0.7667\n",
      "Epoch 40/50\n",
      "12/12 [==============================] - 0s 5ms/step - loss: 0.5173 - accuracy: 0.8000 - val_loss: 0.6190 - val_accuracy: 0.7333\n",
      "Epoch 41/50\n",
      "12/12 [==============================] - 0s 4ms/step - loss: 0.5103 - accuracy: 0.8083 - val_loss: 0.6100 - val_accuracy: 0.7333\n",
      "Epoch 42/50\n",
      "12/12 [==============================] - 0s 4ms/step - loss: 0.5030 - accuracy: 0.8167 - val_loss: 0.6021 - val_accuracy: 0.8000\n",
      "Epoch 43/50\n",
      "12/12 [==============================] - 0s 4ms/step - loss: 0.4961 - accuracy: 0.8167 - val_loss: 0.5952 - val_accuracy: 0.7333\n",
      "Epoch 44/50\n",
      "12/12 [==============================] - 0s 4ms/step - loss: 0.4895 - accuracy: 0.8167 - val_loss: 0.5876 - val_accuracy: 0.8000\n",
      "Epoch 45/50\n",
      "12/12 [==============================] - 0s 4ms/step - loss: 0.4837 - accuracy: 0.8333 - val_loss: 0.5808 - val_accuracy: 0.8333\n",
      "Epoch 46/50\n",
      "12/12 [==============================] - 0s 4ms/step - loss: 0.4793 - accuracy: 0.8167 - val_loss: 0.5746 - val_accuracy: 0.8333\n",
      "Epoch 47/50\n",
      "12/12 [==============================] - 0s 4ms/step - loss: 0.4737 - accuracy: 0.8417 - val_loss: 0.5733 - val_accuracy: 0.7333\n",
      "Epoch 48/50\n",
      "12/12 [==============================] - 0s 4ms/step - loss: 0.4702 - accuracy: 0.8083 - val_loss: 0.5602 - val_accuracy: 0.8667\n",
      "Epoch 49/50\n",
      "12/12 [==============================] - 0s 4ms/step - loss: 0.4602 - accuracy: 0.8417 - val_loss: 0.5549 - val_accuracy: 0.8333\n",
      "Epoch 50/50\n",
      "12/12 [==============================] - 0s 4ms/step - loss: 0.4559 - accuracy: 0.8250 - val_loss: 0.5456 - val_accuracy: 0.8667\n"
     ]
    },
    {
     "data": {
      "text/plain": [
       "<tensorflow.python.keras.callbacks.History at 0x264e31e5dc0>"
      ]
     },
     "execution_count": 95,
     "metadata": {},
     "output_type": "execute_result"
    }
   ],
   "source": [
    "model.fit(x_train, y_train,\n",
    "          batch_size=batch_size,\n",
    "          epochs=epochs,\n",
    "          verbose=1,\n",
    "          validation_data=(x_test, y_test),\n",
    "          callbacks=[tensorboard_callback,history])"
   ]
  },
  {
   "cell_type": "code",
   "execution_count": 79,
   "metadata": {},
   "outputs": [
    {
     "name": "stdout",
     "output_type": "stream",
     "text": [
      "Model: \"sequential_6\"\n",
      "_________________________________________________________________\n",
      "Layer (type)                 Output Shape              Param #   \n",
      "=================================================================\n",
      "dense_24 (Dense)             (None, 5)                 25        \n",
      "_________________________________________________________________\n",
      "dense_25 (Dense)             (None, 10)                60        \n",
      "_________________________________________________________________\n",
      "dense_26 (Dense)             (None, 5)                 55        \n",
      "_________________________________________________________________\n",
      "dense_27 (Dense)             (None, 3)                 18        \n",
      "=================================================================\n",
      "Total params: 158\n",
      "Trainable params: 158\n",
      "Non-trainable params: 0\n",
      "_________________________________________________________________\n"
     ]
    }
   ],
   "source": [
    "model.summary()"
   ]
  },
  {
   "cell_type": "code",
   "execution_count": 80,
   "metadata": {},
   "outputs": [
    {
     "name": "stdout",
     "output_type": "stream",
     "text": [
      "Test loss: 1.1210906505584717\n",
      "Test accuracy: 0.2666666805744171\n"
     ]
    },
    {
     "data": {
      "image/png": "[encoded data removed]",
      "text/plain": [
       "<Figure size 432x288 with 1 Axes>"
      ]
     },
     "metadata": {
      "needs_background": "light"
     },
     "output_type": "display_data"
    }
   ],
   "source": [
    "score = model.evaluate(x_test, y_test, verbose=0)\n",
    "print('Test loss:', score[0])\n",
    "print('Test accuracy:', score[1])\n",
    "plt.plot(range(1, epochs+1), history.acc)\n",
    "plt.xlabel('Epochs')\n",
    "plt.ylabel('Accuracy')\n",
    "plt.show()"
   ]
  }
 ],
 "metadata": {
  "kernelspec": {
   "display_name": "Python 3",
   "language": "python",
   "name": "python3"
  },
  "language_info": {
   "codemirror_mode": {
    "name": "ipython",
    "version": 3
   },
   "file_extension": ".py",
   "mimetype": "text/x-python",
   "name": "python",
   "nbconvert_exporter": "python",
   "pygments_lexer": "ipython3",
   "version": "3.8.3"
  }
 },
 "nbformat": 4,
 "nbformat_minor": 4
}
