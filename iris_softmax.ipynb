{
 "cells": [
  {
   "cell_type": "code",
   "execution_count": 417,
   "metadata": {},
   "outputs": [],
   "source": [
    "import tensorflow as tf\n",
    "import pandas as pd\n",
    "import numpy as np"
   ]
  },
  {
   "cell_type": "code",
   "execution_count": 418,
   "metadata": {},
   "outputs": [],
   "source": [
    "def getTestandTrainSplit():\n",
    "    \n",
    "    iris_df_train =  pd.read_csv(r'C:\\Users\\rajes\\OneDrive\\Documents\\AMPBA\\DL\\iris_training.csv', header=None)\n",
    "    iris_df_test =  pd.read_csv(r'C:\\Users\\rajes\\OneDrive\\Documents\\AMPBA\\DL\\iris_test.csv', header=None)\n",
    "\n",
    "    x_train = iris_df_train.iloc[:,0:4].values\n",
    "    y_train = iris_df_train.iloc[:,-1].values\n",
    "\n",
    "    x_test = iris_df_test.iloc[:,0:4].values\n",
    "    y_test = iris_df_test.iloc[:,-1].values\n",
    "    \n",
    "    return x_train,y_train, x_test,y_test\n"
   ]
  },
  {
   "cell_type": "markdown",
   "metadata": {},
   "source": [
    "##### 1. Create a simple SoftMax classifier with 3 neurons in output layer and no hidden layer using TensorFlow Core APIs. Save it as iris_softmax.py.\n"
   ]
  },
  {
   "cell_type": "code",
   "execution_count": 419,
   "metadata": {},
   "outputs": [],
   "source": [
    "x_train,y_train, x_test,y_test = getTestandTrainSplit()"
   ]
  },
  {
   "cell_type": "code",
   "execution_count": 420,
   "metadata": {},
   "outputs": [
    {
     "data": {
      "text/plain": [
       "array([2, 1, 2, 0, 0, 0, 0, 2, 1, 0, 1, 1, 0, 0, 2, 1, 2, 2, 2, 0, 2, 2,\n",
       "       0, 2, 2, 0, 1, 2, 1, 1, 1, 1, 1, 2, 2, 2, 2, 2, 0, 0, 2, 2, 2, 0,\n",
       "       0, 2, 0, 2, 0, 2, 0, 1, 1, 0, 1, 2, 2, 2, 2, 1, 1, 2, 2, 2, 1, 2,\n",
       "       0, 2, 2, 0, 0, 1, 0, 2, 2, 0, 1, 1, 1, 2, 0, 1, 1, 1, 2, 0, 1, 1,\n",
       "       1, 0, 2, 1, 0, 0, 2, 0, 0, 2, 1, 0, 0, 1, 0, 1, 0, 0, 0, 0, 1, 0,\n",
       "       2, 1, 0, 2, 0, 1, 1, 0, 0, 1], dtype=int64)"
      ]
     },
     "execution_count": 420,
     "metadata": {},
     "output_type": "execute_result"
    }
   ],
   "source": [
    "y_train = iris_df_train.iloc[:,-1].values\n",
    "y_train"
   ]
  },
  {
   "cell_type": "code",
   "execution_count": 436,
   "metadata": {},
   "outputs": [],
   "source": [
    "# SETTING UP HYPERPARAMETERS AND DATA SET PARAMETERS\n",
    "num_classes = 3 # -- Iris Setosa -- Iris Versicolour -- Iris Virginica\n",
    "num_features = 4 # 1. sepal length in cm 2. sepal width in cm  3. petal length in cm 4. petal width in cm\n",
    "\n",
    "# Training parameters.\n",
    "learning_rate = .001\n",
    "training_steps = 2000\n",
    "batch_size = 10\n",
    "display_step = 200\n",
    "\n",
    "# LOADING AND PREPARING THE MNIST DATA SET\n",
    "x_train,y_train, x_test,y_test = getTestandTrainSplit()\n",
    "    \n",
    "# Convert to float32.\n",
    "x_train, x_test = np.array(x_train, np.float32), np.array(x_test, np.float32)\n",
    "\n",
    "y_train, y_test = np.array(y_train, np.int64), np.array(y_test, np.int64)\n",
    "\n",
    "# Normalize images value from [0, 255] to [0, 1].\n",
    "#x_train, x_test = x_train / 255., x_test / 255."
   ]
  },
  {
   "cell_type": "code",
   "execution_count": 437,
   "metadata": {},
   "outputs": [
    {
     "name": "stdout",
     "output_type": "stream",
     "text": [
      "(30, 4) (120, 4) 4\n",
      "<TensorSliceDataset shapes: ((4,), ()), types: (tf.float32, tf.int64)>\n",
      "<RepeatDataset shapes: ((4,), ()), types: (tf.float32, tf.int64)>\n"
     ]
    }
   ],
   "source": [
    "# Flatten images to 1-D vector of 784 features (28*28).\n",
    "x_train, x_test = x_train.reshape([-1, num_features]), x_test.reshape([-1, num_features])\n",
    "\n",
    "print(x_test.shape,x_train.shape,num_features)\n",
    "\n",
    "# Use tf.data API to shuffle and batch data.\n",
    "train_data=tf.data.Dataset.from_tensor_slices((x_train,y_train))\n",
    "\n",
    "#prefetch: Creates a `Dataset` that prefetches elements from this dataset. \n",
    "#Like other `Dataset` methods, prefetch operates on the #elements of the input dataset. \n",
    "#It has no concept of examples vs. batches. `examples.prefetch(2)` will prefetch \n",
    "#two elements (2 examples), #while `examples.batch(20).prefetch(2)` will prefetch \n",
    "#2 elements (2 batches, of 20 examples each).\n",
    "\n",
    "print(train_data)\n",
    "print(train_data.repeat())\n",
    "#Signature: train_data.shuffle(buffer_size, seed=None, reshuffle_each_iteration=None)\n",
    "train_data=train_data.shuffle(500).repeat().batch(batch_size).prefetch(1)\n",
    "#Look at https://stackoverflow.com/questions/53514495/what-does-batch-repeat-and-shuffle-do-with-tensorflow-dataset\n",
    "#to understand details of how shuffle(), repeat() and batch() work."
   ]
  },
  {
   "cell_type": "code",
   "execution_count": 438,
   "metadata": {},
   "outputs": [
    {
     "name": "stdout",
     "output_type": "stream",
     "text": [
      "(120, 4) (30, 4) (120,) (30,)\n"
     ]
    }
   ],
   "source": [
    "print(x_train.shape, x_test.shape, y_train.shape, y_test.shape)"
   ]
  },
  {
   "cell_type": "code",
   "execution_count": 451,
   "metadata": {},
   "outputs": [
    {
     "name": "stdout",
     "output_type": "stream",
     "text": [
      "step: 200, loss: 6.353139, accuracy: 0.600000\n",
      "step: 400, loss: 3.540609, accuracy: 0.900000\n",
      "step: 600, loss: 4.800160, accuracy: 0.900000\n",
      "step: 800, loss: 3.297410, accuracy: 1.000000\n",
      "step: 1000, loss: 2.928525, accuracy: 1.000000\n",
      "(30, 4) (30,)\n",
      "Test Accuracy: 1.000000\n",
      "step: 1200, loss: 4.377698, accuracy: 0.800000\n",
      "step: 1400, loss: 1.895106, accuracy: 1.000000\n",
      "step: 1600, loss: 2.759004, accuracy: 0.800000\n",
      "step: 1800, loss: 1.590866, accuracy: 1.000000\n",
      "step: 2000, loss: 4.006105, accuracy: 0.900000\n",
      "(30, 4) (30,)\n",
      "Test Accuracy: 0.933333\n"
     ]
    }
   ],
   "source": [
    "# INITIALIZING WEIGHTS AND BIASES\n",
    "# Weight of shape [784, 10], the 28*28 image features, and a total number of classes.\n",
    "W = tf.Variable(tf.ones([num_features, num_classes]), name=\"weight\")\n",
    "# Bias of shape [10], the total number of classes.\n",
    "b = tf.Variable(tf.zeros([num_classes]), name=\"bias\")\n",
    "\n",
    "\n",
    "# DEFINING LOGISTIC REGRESSION AND COST FUNCTION\n",
    "# Logistic regression (Wx + b).\n",
    "def logistic_regression(x):\n",
    "    # Apply softmax to normalize the logits to a probability distribution.\n",
    "    return tf.nn.softmax(tf.matmul(x, W) + b)\n",
    "\n",
    "# Cross-Entropy loss function.\n",
    "def cross_entropy(y_pred, y_true):\n",
    "    # Encode label to a one hot vector.\n",
    "    y_true = tf.one_hot(y_true, depth=num_classes)\n",
    "    # Clip prediction values to avoid log(0) error.\n",
    "    y_pred = tf.clip_by_value(y_pred, 1e-9, 1.)\n",
    "    # Compute cross-entropy.\n",
    "    return tf.reduce_mean(-tf.reduce_sum(y_true * tf.math.log(y_pred)))\n",
    "\n",
    "# DEFINING OPTIMIZERS AND ACCURACY METRICS\n",
    "# Accuracy metric.\n",
    "def accuracy(y_pred, y_true):\n",
    "    # Predicted class is the index of the highest score in prediction vector (i.e. argmax).\n",
    "    correct_prediction = tf.equal(tf.argmax(y_pred, 1), tf.cast(y_true, tf.int64))\n",
    "    return tf.reduce_mean(tf.cast(correct_prediction, tf.float32))\n",
    "\n",
    "# Stochastic gradient descent optimizer.\n",
    "optimizer = tf.optimizers.SGD(learning_rate)\n",
    "\n",
    "# OPTIMIZATION PROCESS AND UPDATING WEIGHTS AND BIASES\n",
    "def run_optimization(x, y):\n",
    "# Wrap computation inside a GradientTape for automatic differentiation.\n",
    "    with tf.GradientTape() as g:\n",
    "        pred = logistic_regression(x)\n",
    "        loss = cross_entropy(pred, y)\n",
    "    # Compute gradients.\n",
    "    gradients = g.gradient(loss, [W, b])\n",
    "    # Update W and b following gradients.\n",
    "    optimizer.apply_gradients(zip(gradients, [W, b]))\n",
    "    \n",
    "# Run training for the given number of steps.\n",
    "for step, (batch_x, batch_y) in enumerate(train_data.take(training_steps), 1):\n",
    "    #print(batch_x,batch_y)\n",
    "    # Run the optimization to update W and b values.\n",
    "    run_optimization(batch_x, batch_y)\n",
    "    if step % display_step == 0:\n",
    "        pred = logistic_regression(batch_x)\n",
    "        loss = cross_entropy(pred, batch_y)\n",
    "        acc = accuracy(pred, batch_y)\n",
    "        print(\"step: %i, loss: %f, accuracy: %f\" % (step, loss, acc))\n",
    "    if step % 1000 ==0:\n",
    "        print(x_test.shape,y_test.shape)\n",
    "        print(\"Test Accuracy: %f\" % accuracy(logistic_regression(x_test), y_test))"
   ]
  },
  {
   "cell_type": "code",
   "execution_count": 452,
   "metadata": {},
   "outputs": [
    {
     "name": "stdout",
     "output_type": "stream",
     "text": [
      "Test Accuracy: 0.933333\n"
     ]
    }
   ],
   "source": [
    "# Test model on test set.\n",
    "pred = logistic_regression(x_test)\n",
    "print(\"Test Accuracy: %f\" % accuracy(pred, y_test))\n"
   ]
  },
  {
   "cell_type": "code",
   "execution_count": 426,
   "metadata": {},
   "outputs": [
    {
     "name": "stdout",
     "output_type": "stream",
     "text": [
      "Test Accuracy: 0.966667\n"
     ]
    }
   ],
   "source": [
    "# Test model on test set.\n",
    "pred = logistic_regression(x_train)\n",
    "print(\"Test Accuracy: %f\" % accuracy(pred, y_train))"
   ]
  },
  {
   "cell_type": "markdown",
   "metadata": {},
   "source": []
  },
  {
   "cell_type": "code",
   "execution_count": null,
   "metadata": {},
   "outputs": [],
   "source": []
  }
 ],
 "metadata": {
  "kernelspec": {
   "display_name": "Python 3",
   "language": "python",
   "name": "python3"
  },
  "language_info": {
   "codemirror_mode": {
    "name": "ipython",
    "version": 3
   },
   "file_extension": ".py",
   "mimetype": "text/x-python",
   "name": "python",
   "nbconvert_exporter": "python",
   "pygments_lexer": "ipython3",
   "version": "3.8.3"
  }
 },
 "nbformat": 4,
 "nbformat_minor": 4
}
