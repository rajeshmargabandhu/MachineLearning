{
 "cells": [
  {
   "cell_type": "code",
   "execution_count": 53,
   "metadata": {},
   "outputs": [],
   "source": [
    "import pandas as pd\n",
    "import tensorflow as tf\n",
    "import tensorflow.keras as keras\n",
    "import numpy as np\n",
    "from tensorflow.keras.datasets import mnist\n",
    "from tensorflow.keras.datasets import fashion_mnistt\n",
    "import tensorflow.keras as keras\n",
    "from tensorflow.keras.layers import Dense\n",
    "from tensorflow.keras.models import Sequential"
   ]
  },
  {
   "cell_type": "code",
   "execution_count": 55,
   "metadata": {},
   "outputs": [
    {
     "name": "stdout",
     "output_type": "stream",
     "text": [
      "60000 10000 60000 10000\n"
     ]
    }
   ],
   "source": [
    "# SETTING UP HYPERPARAMETERS AND DATA SET PARAMETERS\n",
    "num_classes = 10 # 0 to 9 digits\n",
    "num_features = 784 # 28*28\n",
    "# Training parameters.\n",
    "\n",
    "learning_rate = 0.01\n",
    "training_steps = 1000\n",
    "batch_size = 50\n",
    "display_step = 100\n",
    "\n",
    "# LOADING AND PREPARING THE MNIST DATA SET\n",
    "(x_train, y_train), (x_test, y_test) = fashion_mnist.load_data()\n",
    "\n",
    "# Convert to float32.\n",
    "x_train, x_test = np.array(x_train, np.float32), np.array(x_test, np.float32)\n",
    "# Normalize images value from [0, 255] to [0, 1].\n",
    "\n",
    "x_train, x_test = x_train / 255., x_test / 255.\n",
    "print(len(x_train),len(x_test),len(y_train),len(y_test))\n",
    "\n",
    "# Flatten images to 1-D vector of 784 features (28*28).\n",
    "x_train, x_test = x_train.reshape([-1, num_features]), x_test.reshape([-1, num_features])\n",
    "\n",
    "# Use tf.data API to shuffle and batch data.\n",
    "train_data=tf.data.Dataset.from_tensor_slices((x_train,y_train))\n",
    "\n",
    "#prefetch: Creates a `Dataset` that prefetches elements from this dataset. \n",
    "#Like other `Dataset` methods, prefetch operates on the #elements of the input dataset. \n",
    "#It has no concept of examples vs. batches. `examples.prefetch(2)` will prefetch \n",
    "#two elements (2 examples), #while `examples.batch(20).prefetch(2)` will prefetch \n",
    "#2 elements (2 batches, of 20 examples each).\n",
    "train_data=train_data.shuffle(x_train.shape[0]).repeat().batch(batch_size).prefetch(1)"
   ]
  },
  {
   "cell_type": "code",
   "execution_count": 56,
   "metadata": {},
   "outputs": [],
   "source": [
    "def conv2d(x, W):\n",
    "    \"\"\"conv2d returns a 2d convolution layer with full stride.\"\"\"\n",
    "    return tf.nn.conv2d(x, W, strides=[1, 1, 1, 1], padding='SAME')\n",
    "\n",
    "\n",
    "def max_pool_2x2(x):\n",
    "    \"\"\"max_pool_2x2 downsamples a feature map by 2X.\"\"\"\n",
    "    return tf.nn.max_pool(x, ksize=[1, 2, 2, 1],\n",
    "                        strides=[1, 2, 2, 1], padding='SAME')"
   ]
  },
  {
   "cell_type": "code",
   "execution_count": 57,
   "metadata": {},
   "outputs": [],
   "source": [
    "def weight_variable(shape):\n",
    "    \"\"\"weight_variable generates a weight variable of a given shape.\"\"\"\n",
    "    initial = tf.random.truncated_normal(shape, stddev=0.1)\n",
    "    return tf.Variable(initial)\n",
    "def bias_variable(shape):\n",
    "    \"\"\"bias_variable generates a bias variable of a given shape.\"\"\"\n",
    "    initial = tf.constant(0.1, shape=shape)\n",
    "    return tf.Variable(initial)"
   ]
  },
  {
   "cell_type": "code",
   "execution_count": 72,
   "metadata": {},
   "outputs": [],
   "source": [
    "W_conv1 = weight_variable([3, 3, 1, 16])\n",
    "b_conv1 = bias_variable([16])\n",
    "\n",
    "W_conv2 = weight_variable([3, 3, 16, 8])\n",
    "b_conv2 = bias_variable([8])\n",
    "\n",
    "W_fc1 = weight_variable([7 * 7 * 8, 64])\n",
    "b_fc1 = bias_variable([64])\n",
    "\n",
    "W_fc2 = weight_variable([64, 10])\n",
    "b_fc2 = bias_variable([10])"
   ]
  },
  {
   "cell_type": "code",
   "execution_count": 75,
   "metadata": {},
   "outputs": [],
   "source": [
    "def deepnn(x,keep_prob):\n",
    "    # Reshape to use within a convolutional neural net.\n",
    "    # Last dimension is for \"features\" - there is only one here, since images are\n",
    "    # grayscale -- it would be 3 for an RGB image, 4 for RGBA, etc.\n",
    "    x_image = tf.reshape(x, [-1, 28, 28, 1])\n",
    "    # First convolutional layer - maps one grayscale image to 32 feature maps.\n",
    "    h_conv1 = tf.nn.relu(conv2d(x_image, W_conv1) + b_conv1)\n",
    "    # Pooling layer - downsamples by 2X.\n",
    "    h_pool1 = max_pool_2x2(h_conv1)\n",
    "    # Second convolutional layer -- maps 32 feature maps to 64.\n",
    "    h_conv2 = tf.nn.relu(conv2d(h_pool1, W_conv2) + b_conv2)\n",
    "    # Second pooling layer.\n",
    "    h_pool2 = max_pool_2x2(h_conv2)\n",
    "    # Fully connected layer 1 -- after 2 round of downsampling, our 28x28 image\n",
    "    # is down to 7x7x64 feature maps -- maps this to 1024 features.\n",
    "    h_pool2_flat = tf.reshape(h_pool2, [-1, 7*7*8])\n",
    "    \n",
    "        \n",
    "    h_fc1 = tf.nn.relu(tf.matmul(h_pool2_flat, W_fc1) + b_fc1)\n",
    "    h_fc1_drop = tf.nn.dropout(h_fc1, keep_prob)\n",
    "    \n",
    "    \n",
    "    # Map the 1024 features to 10 classes, one for each digit\n",
    "    y_conv = tf.matmul(h_fc1_drop, W_fc2) + b_fc2\n",
    "    return tf.nn.softmax(y_conv)"
   ]
  },
  {
   "cell_type": "code",
   "execution_count": 76,
   "metadata": {},
   "outputs": [
    {
     "name": "stdout",
     "output_type": "stream",
     "text": [
      "step: 100, loss: 107.469070, accuracy: 0.340000\n",
      "Test Accuracy: 0.392300\n",
      "step: 200, loss: 95.586945, accuracy: 0.480000\n",
      "Test Accuracy: 0.503500\n",
      "step: 300, loss: 72.679291, accuracy: 0.520000\n",
      "Test Accuracy: 0.600600\n",
      "step: 400, loss: 61.386925, accuracy: 0.640000\n",
      "Test Accuracy: 0.652300\n",
      "step: 500, loss: 50.518440, accuracy: 0.760000\n",
      "Test Accuracy: 0.684600\n",
      "step: 600, loss: 47.948830, accuracy: 0.720000\n",
      "Test Accuracy: 0.700900\n",
      "step: 700, loss: 33.211571, accuracy: 0.820000\n",
      "Test Accuracy: 0.700600\n",
      "step: 800, loss: 40.263382, accuracy: 0.760000\n",
      "Test Accuracy: 0.708400\n",
      "step: 900, loss: 39.737679, accuracy: 0.760000\n",
      "Test Accuracy: 0.719300\n",
      "step: 1000, loss: 45.920574, accuracy: 0.640000\n",
      "Test Accuracy: 0.723100\n",
      "Test Accuracy: 0.723100\n"
     ]
    }
   ],
   "source": [
    "# Stochastic gradient descent optimizer.\n",
    "optimizer = tf.optimizers.Adam(1e-4)\n",
    "\n",
    "\n",
    "# Cross-Entropy loss function.\n",
    "def cross_entropy(y_pred, y_true):\n",
    "    # Encode label to a one hot vector.\n",
    "    y_true = tf.one_hot(y_true, depth=num_classes)\n",
    "    # Clip prediction values to avoid log(0) error.\n",
    "    y_pred = tf.clip_by_value(y_pred, 1e-9, 1.)\n",
    "    # Compute cross-entropy.\n",
    "    return tf.reduce_mean(-tf.reduce_sum(y_true * tf.math.log(y_pred)))\n",
    "\n",
    "# DEFINING OPTIMIZERS AND ACCURACY METRICS\n",
    "# Accuracy metric.\n",
    "def accuracy(y_pred, y_true):\n",
    "    # Predicted class is the index of the highest score in prediction vector (i.e. argmax).\n",
    "    correct_prediction = tf.equal(tf.argmax(y_pred, 1), tf.cast(y_true, tf.int64))\n",
    "    return tf.reduce_mean(tf.cast(correct_prediction, tf.float32))\n",
    "\n",
    "# OPTIMIZATION PROCESS AND UPDATING WEIGHTS AND BIASES\n",
    "def run_optimization(x, y):\n",
    "# Wrap computation inside a GradientTape for automatic differentiation.\n",
    "    with tf.GradientTape() as g:\n",
    "        pred = deepnn(x,0.5)\n",
    "        loss = cross_entropy(pred, y)\n",
    "    # Compute gradients.\n",
    "    gradients = g.gradient(loss, [W_conv1, W_conv2, W_fc1, W_fc2,b_conv1, b_conv2, b_fc1, b_fc2])\n",
    "    # Update W and b following gradients.\n",
    "    optimizer.apply_gradients(zip(gradients, [W_conv1, W_conv2, W_fc1, W_fc2,b_conv1, b_conv2, b_fc1, b_fc2]))\n",
    "    \n",
    "# Run training for the given number of steps.\n",
    "for step, (batch_x, batch_y) in enumerate(train_data.take(training_steps), 1):\n",
    "    # Run the optimization to update W and b values.\n",
    "    run_optimization(batch_x, batch_y)\n",
    "    if step % display_step == 0:\n",
    "        pred = deepnn(batch_x,0.0)\n",
    "        #print(pred)\n",
    "        loss = cross_entropy(pred, batch_y)\n",
    "        acc = accuracy(pred, batch_y)\n",
    "        print(\"step: %i, loss: %f, accuracy: %f\" % (step, loss, acc))\n",
    "    if step % 100 ==0:\n",
    "        print(\"Test Accuracy: %f\" % accuracy(deepnn(x_test,0.0), y_test))\n",
    "        \n",
    "# Test model on test set.\n",
    "pred = deepnn(x_test,0.0)\n",
    "print(\"Test Accuracy: %f\" % accuracy(pred, y_test))"
   ]
  },
  {
   "cell_type": "code",
   "execution_count": 71,
   "metadata": {},
   "outputs": [
    {
     "name": "stderr",
     "output_type": "stream",
     "text": [
      "UsageError: Line magic function `%tensorboard` not found.\n"
     ]
    }
   ],
   "source": [
    "%tensorboard --logdir logs/"
   ]
  }
 ],
 "metadata": {
  "kernelspec": {
   "display_name": "Python 3",
   "language": "python",
   "name": "python3"
  },
  "language_info": {
   "codemirror_mode": {
    "name": "ipython",
    "version": 3
   },
   "file_extension": ".py",
   "mimetype": "text/x-python",
   "name": "python",
   "nbconvert_exporter": "python",
   "pygments_lexer": "ipython3",
   "version": "3.8.3"
  }
 },
 "nbformat": 4,
 "nbformat_minor": 4
}
